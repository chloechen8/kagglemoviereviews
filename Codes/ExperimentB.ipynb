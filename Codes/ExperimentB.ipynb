{
 "cells": [
  {
   "cell_type": "code",
   "execution_count": 18,
   "metadata": {},
   "outputs": [],
   "source": [
    "# In this part, we will use NRC Emotional Lexicon\n",
    "import pandas as pd\n",
    "import os\n",
    "import sys"
   ]
  },
  {
   "cell_type": "code",
   "execution_count": 19,
   "metadata": {},
   "outputs": [
    {
     "data": {
      "text/html": [
       "<div>\n",
       "<style scoped>\n",
       "    .dataframe tbody tr th:only-of-type {\n",
       "        vertical-align: middle;\n",
       "    }\n",
       "\n",
       "    .dataframe tbody tr th {\n",
       "        vertical-align: top;\n",
       "    }\n",
       "\n",
       "    .dataframe thead th {\n",
       "        text-align: right;\n",
       "    }\n",
       "</style>\n",
       "<table border=\"1\" class=\"dataframe\">\n",
       "  <thead>\n",
       "    <tr style=\"text-align: right;\">\n",
       "      <th></th>\n",
       "      <th>word</th>\n",
       "      <th>emotion</th>\n",
       "      <th>association</th>\n",
       "    </tr>\n",
       "  </thead>\n",
       "  <tbody>\n",
       "    <tr>\n",
       "      <th>0</th>\n",
       "      <td>abandonment</td>\n",
       "      <td>negative</td>\n",
       "      <td>1</td>\n",
       "    </tr>\n",
       "    <tr>\n",
       "      <th>1</th>\n",
       "      <td>abandonment</td>\n",
       "      <td>positive</td>\n",
       "      <td>0</td>\n",
       "    </tr>\n",
       "    <tr>\n",
       "      <th>2</th>\n",
       "      <td>abandonment</td>\n",
       "      <td>sadness</td>\n",
       "      <td>1</td>\n",
       "    </tr>\n",
       "    <tr>\n",
       "      <th>3</th>\n",
       "      <td>abandonment</td>\n",
       "      <td>surprise</td>\n",
       "      <td>1</td>\n",
       "    </tr>\n",
       "    <tr>\n",
       "      <th>4</th>\n",
       "      <td>abandonment</td>\n",
       "      <td>trust</td>\n",
       "      <td>0</td>\n",
       "    </tr>\n",
       "    <tr>\n",
       "      <th>5</th>\n",
       "      <td>abate</td>\n",
       "      <td>anger</td>\n",
       "      <td>0</td>\n",
       "    </tr>\n",
       "    <tr>\n",
       "      <th>6</th>\n",
       "      <td>abate</td>\n",
       "      <td>anticipation</td>\n",
       "      <td>0</td>\n",
       "    </tr>\n",
       "    <tr>\n",
       "      <th>7</th>\n",
       "      <td>abate</td>\n",
       "      <td>disgust</td>\n",
       "      <td>0</td>\n",
       "    </tr>\n",
       "    <tr>\n",
       "      <th>8</th>\n",
       "      <td>abate</td>\n",
       "      <td>fear</td>\n",
       "      <td>0</td>\n",
       "    </tr>\n",
       "    <tr>\n",
       "      <th>9</th>\n",
       "      <td>abate</td>\n",
       "      <td>joy</td>\n",
       "      <td>0</td>\n",
       "    </tr>\n",
       "  </tbody>\n",
       "</table>\n",
       "</div>"
      ],
      "text/plain": [
       "          word       emotion  association\n",
       "0  abandonment      negative            1\n",
       "1  abandonment      positive            0\n",
       "2  abandonment       sadness            1\n",
       "3  abandonment      surprise            1\n",
       "4  abandonment         trust            0\n",
       "5        abate         anger            0\n",
       "6        abate  anticipation            0\n",
       "7        abate       disgust            0\n",
       "8        abate          fear            0\n",
       "9        abate           joy            0"
      ]
     },
     "execution_count": 19,
     "metadata": {},
     "output_type": "execute_result"
    }
   ],
   "source": [
    "filepath = r\"C:\\Users\\Xin\\Downloads\\CIS668\\Term Project\\FinalProjectData\\FinalProjectData\\kagglemoviereviews\\SentimentLexicons\\NRC_emotion_lexicon_list.txt\"\n",
    "emolex = pd.read_csv(filepath,  names=[\"word\", \"emotion\", \"association\"], skiprows=45, sep='\\t')\n",
    "emolex.head(10)"
   ]
  },
  {
   "cell_type": "code",
   "execution_count": 20,
   "metadata": {},
   "outputs": [
    {
     "data": {
      "text/plain": [
       "array(['negative', 'positive', 'sadness', 'surprise', 'trust', 'anger',\n",
       "       'anticipation', 'disgust', 'fear', 'joy'], dtype=object)"
      ]
     },
     "execution_count": 20,
     "metadata": {},
     "output_type": "execute_result"
    }
   ],
   "source": [
    "emolex.emotion.unique()"
   ]
  },
  {
   "cell_type": "code",
   "execution_count": 21,
   "metadata": {},
   "outputs": [
    {
     "data": {
      "text/plain": [
       "sadness         14178\n",
       "positive        14178\n",
       "negative        14178\n",
       "trust           14178\n",
       "surprise        14178\n",
       "anger           14177\n",
       "joy             14177\n",
       "fear            14177\n",
       "disgust         14177\n",
       "anticipation    14177\n",
       "Name: emotion, dtype: int64"
      ]
     },
     "execution_count": 21,
     "metadata": {},
     "output_type": "execute_result"
    }
   ],
   "source": [
    "emolex.emotion.value_counts()"
   ]
  },
  {
   "cell_type": "code",
   "execution_count": 24,
   "metadata": {},
   "outputs": [
    {
     "data": {
      "text/plain": [
       "lewd              10\n",
       "white             10\n",
       "immaturity        10\n",
       "signature         10\n",
       "trace             10\n",
       "centralize        10\n",
       "stifling          10\n",
       "examiner          10\n",
       "store             10\n",
       "addition          10\n",
       "tritium           10\n",
       "books             10\n",
       "acknowledge       10\n",
       "group             10\n",
       "bridle            10\n",
       "stalwart          10\n",
       "opportune         10\n",
       "seat              10\n",
       "estrogen          10\n",
       "promulgate        10\n",
       "facsimile         10\n",
       "provisionally     10\n",
       "capitol           10\n",
       "accountant        10\n",
       "dogmatic          10\n",
       "dryness           10\n",
       "venerable         10\n",
       "prank             10\n",
       "dump              10\n",
       "hew               10\n",
       "                  ..\n",
       "argue             10\n",
       "peril             10\n",
       "worried           10\n",
       "radioactivity     10\n",
       "combative         10\n",
       "credited          10\n",
       "fuzzy             10\n",
       "lullaby           10\n",
       "cryptic           10\n",
       "receptacle        10\n",
       "prevalent         10\n",
       "carry             10\n",
       "displeasure       10\n",
       "carnation         10\n",
       "indispensable     10\n",
       "tiredness         10\n",
       "chapter           10\n",
       "renovation        10\n",
       "plover            10\n",
       "weakly            10\n",
       "carol             10\n",
       "banjo             10\n",
       "expel             10\n",
       "import            10\n",
       "sou               10\n",
       "naturalization    10\n",
       "seer              10\n",
       "hunter            10\n",
       "captivating       10\n",
       "abandonment        5\n",
       "Name: word, Length: 14177, dtype: int64"
      ]
     },
     "execution_count": 24,
     "metadata": {},
     "output_type": "execute_result"
    }
   ],
   "source": [
    "emolex.word.value_counts()"
   ]
  },
  {
   "cell_type": "code",
   "execution_count": 22,
   "metadata": {},
   "outputs": [
    {
     "data": {
      "text/plain": [
       "negative        3322\n",
       "positive        2312\n",
       "fear            1473\n",
       "anger           1245\n",
       "trust           1230\n",
       "sadness         1189\n",
       "disgust         1058\n",
       "anticipation     839\n",
       "joy              689\n",
       "surprise         534\n",
       "Name: emotion, dtype: int64"
      ]
     },
     "execution_count": 22,
     "metadata": {},
     "output_type": "execute_result"
    }
   ],
   "source": [
    "emolex[emolex_df.association == 1].emotion.value_counts()"
   ]
  },
  {
   "cell_type": "code",
   "execution_count": 23,
   "metadata": {},
   "outputs": [
    {
     "data": {
      "text/plain": [
       "125             abhor\n",
       "135         abhorrent\n",
       "225           abolish\n",
       "255       abomination\n",
       "585             abuse\n",
       "1075         accursed\n",
       "1085       accusation\n",
       "1105          accused\n",
       "1115          accuser\n",
       "1125         accusing\n",
       "1425       actionable\n",
       "1605            adder\n",
       "2345        adversary\n",
       "2355          adverse\n",
       "2365        adversity\n",
       "2455         advocacy\n",
       "2795          affront\n",
       "2875        aftermath\n",
       "2985       aggravated\n",
       "2995      aggravating\n",
       "3005      aggravation\n",
       "3035       aggression\n",
       "3045       aggressive\n",
       "3055        aggressor\n",
       "3095         agitated\n",
       "3105        agitation\n",
       "3145            agony\n",
       "3525       alcoholism\n",
       "3635         alienate\n",
       "3655       alienation\n",
       "             ...     \n",
       "138425        warlike\n",
       "138485           warp\n",
       "138555        warrior\n",
       "138635         wasted\n",
       "138645       wasteful\n",
       "139285          wench\n",
       "139505           whip\n",
       "139905        willful\n",
       "139975          wimpy\n",
       "139985          wince\n",
       "140175       wireless\n",
       "140245          witch\n",
       "140255     witchcraft\n",
       "140565            wop\n",
       "140595          words\n",
       "140825      worthless\n",
       "140855          wound\n",
       "140875      wrangling\n",
       "140915          wrath\n",
       "140925          wreak\n",
       "140945          wreck\n",
       "140955        wrecked\n",
       "141015         wretch\n",
       "141045          wring\n",
       "141165     wrongdoing\n",
       "141175       wrongful\n",
       "141185        wrongly\n",
       "141425           yell\n",
       "141455           yelp\n",
       "141595          youth\n",
       "Name: word, Length: 1245, dtype: object"
      ]
     },
     "execution_count": 23,
     "metadata": {},
     "output_type": "execute_result"
    }
   ],
   "source": [
    "emolex[(emolex_df.association == 1) & (emolex_df.emotion == 'anger')].word"
   ]
  },
  {
   "cell_type": "code",
   "execution_count": null,
   "metadata": {},
   "outputs": [],
   "source": []
  },
  {
   "cell_type": "code",
   "execution_count": null,
   "metadata": {},
   "outputs": [],
   "source": []
  }
 ],
 "metadata": {
  "kernelspec": {
   "display_name": "Python 3",
   "language": "python",
   "name": "python3"
  },
  "language_info": {
   "codemirror_mode": {
    "name": "ipython",
    "version": 3
   },
   "file_extension": ".py",
   "mimetype": "text/x-python",
   "name": "python",
   "nbconvert_exporter": "python",
   "pygments_lexer": "ipython3",
   "version": "3.6.5"
  }
 },
 "nbformat": 4,
 "nbformat_minor": 2
}
